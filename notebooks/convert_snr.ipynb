{
 "cells": [
  {
   "cell_type": "code",
   "id": "initial_id",
   "metadata": {
    "collapsed": true,
    "ExecuteTime": {
     "end_time": "2025-07-22T21:08:18.089383Z",
     "start_time": "2025-07-22T21:08:18.087062Z"
    }
   },
   "source": [
    "from typing import Sequence, Union\n",
    "\n",
    "import pynmea2\n",
    "from astropy.time import Time\n",
    "from pathlib import Path"
   ],
   "outputs": [],
   "execution_count": 10
  },
  {
   "metadata": {
    "ExecuteTime": {
     "end_time": "2025-07-22T21:08:18.818727Z",
     "start_time": "2025-07-22T21:08:18.815082Z"
    }
   },
   "cell_type": "code",
   "source": [
    "base_path = Path(\".\")\n",
    "\n",
    "msg_types = [\"sv_prn_num_\", \"elevation_deg_\", \"azimuth_\", \"snr_\"]\n"
   ],
   "id": "cc38b84e0497770c",
   "outputs": [],
   "execution_count": 11
  },
  {
   "metadata": {
    "ExecuteTime": {
     "end_time": "2025-07-22T21:08:25.883495Z",
     "start_time": "2025-07-22T21:08:25.881034Z"
    }
   },
   "cell_type": "code",
   "source": [
    "def export_snr_data(data: Sequence[Sequence[Union[int, float]]], file_name: str) -> None:\n",
    "    fmt = (\n",
    "        \"{:3d} \"    # SV PRN Number\n",
    "        \"{:8.4f} \"  # Elevation in degrees\n",
    "        \"{:10.4f} \" # Azimuth in degrees\n",
    "        \"{:10.0f} \"   # GPS Time\n",
    "        \"{:6.2f}\"   # SNR in dB\n",
    "    )\n",
    "\n",
    "    with open(file_name, \"w\") as f:\n",
    "        for row in data:\n",
    "            f.write(fmt.format(*row) + \"\\n\")"
   ],
   "id": "431a03b8b95b2a38",
   "outputs": [],
   "execution_count": 12
  },
  {
   "metadata": {
    "ExecuteTime": {
     "end_time": "2025-07-22T21:08:59.836588Z",
     "start_time": "2025-07-22T21:08:28.021781Z"
    }
   },
   "cell_type": "code",
   "source": [
    "log_files = base_path.rglob(\"*.LOG\")\n",
    "for file_name in log_files:\n",
    "    file = open(file_name, \"r\")\n",
    "    snr_data = []\n",
    "    current_gps_time = 0\n",
    "    for line in file.readlines():\n",
    "        try:\n",
    "            msg = pynmea2.parse(line)\n",
    "            if msg.sentence_type == \"RMC\":\n",
    "                current_gps_time = Time(msg.datetime).gps\n",
    "            if msg.sentence_type == \"GSV\":\n",
    "                for j in range(1,4):\n",
    "                    single_data = []\n",
    "                    do_add = True\n",
    "                    for k in range(len(msg_types)):\n",
    "                        if hasattr(msg, f\"{msg_types[k]}{j}\"):\n",
    "                            data = getattr(msg, f\"{msg_types[k]}{j}\")\n",
    "                            if not data:\n",
    "                                do_add = False\n",
    "                                break\n",
    "                            single_data.append(int(data))\n",
    "                        else:\n",
    "                            do_add = False\n",
    "                            break\n",
    "                    if not do_add:\n",
    "                        continue\n",
    "                    single_data.insert(3, current_gps_time)\n",
    "                    snr_data.append(single_data)\n",
    "        except pynmea2.ParseError:\n",
    "            continue\n",
    "\n",
    "    export_snr_data(snr_data, \"../gnssir/data/\"+file_name.stem + \".snr\")"
   ],
   "id": "d0cd8d57c42500d5",
   "outputs": [],
   "execution_count": 13
  },
  {
   "metadata": {
    "ExecuteTime": {
     "end_time": "2025-07-15T00:18:49.431419Z",
     "start_time": "2025-07-15T00:18:49.427647Z"
    }
   },
   "cell_type": "code",
   "source": "msg.timestamp",
   "id": "aa93ab19aa7c7a5e",
   "outputs": [
    {
     "data": {
      "text/plain": [
       "datetime.time(0, 0, 3, tzinfo=datetime.timezone.utc)"
      ]
     },
     "execution_count": 21,
     "metadata": {},
     "output_type": "execute_result"
    }
   ],
   "execution_count": 21
  }
 ],
 "metadata": {
  "kernelspec": {
   "display_name": "Python 3",
   "language": "python",
   "name": "python3"
  },
  "language_info": {
   "codemirror_mode": {
    "name": "ipython",
    "version": 2
   },
   "file_extension": ".py",
   "mimetype": "text/x-python",
   "name": "python",
   "nbconvert_exporter": "python",
   "pygments_lexer": "ipython2",
   "version": "2.7.6"
  }
 },
 "nbformat": 4,
 "nbformat_minor": 5
}
